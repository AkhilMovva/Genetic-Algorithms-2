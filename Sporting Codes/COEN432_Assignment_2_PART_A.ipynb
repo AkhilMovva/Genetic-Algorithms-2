{
  "nbformat": 4,
  "nbformat_minor": 0,
  "metadata": {
    "colab": {
      "name": "COEN432-Assignment#2-PART-A.ipynb",
      "provenance": [],
      "collapsed_sections": []
    },
    "kernelspec": {
      "name": "python3",
      "display_name": "Python 3"
    }
  },
  "cells": [
    {
      "cell_type": "markdown",
      "metadata": {
        "id": "uIMnUvDB469w",
        "colab_type": "text"
      },
      "source": [
        "# Assignment-2 Part 1 - The Puzzle\n",
        "###Description\n",
        "Given an empty rectangular frame of length L and width W and N rectangular tiles, write a GA that arranges the tiles in the Frame in such a way that it minimizes the free space.\n",
        "\n",
        "### Inputs\n",
        "An individual is json, with the following tags-length, width (dimensions of the frame), pieces - number of tiles and puzzle- a list of all the tiles.\n",
        "\n",
        "Each tile is a list [x, y, l, w], where x,y is the bottom left coordinates of the tile and l,w is the dimension of the tile.\n",
        "\n",
        "Population is a json with the desired number(population_size) of individuals.\n",
        "\n",
        "Running the function generate, generates the json file - population.json. The function also generates the solution as a json file (solution.json) when the parameter sol is set to true.\n",
        "\n",
        "\n",
        "### Uploading the support Codes\n",
        "\n",
        "After **uploading** the **Part-A-Support.zip** file, run the below code to extract all the files."
      ]
    },
    {
      "cell_type": "code",
      "metadata": {
        "id": "vLna5Qrk4Ty0",
        "colab_type": "code",
        "colab": {
          "base_uri": "https://localhost:8080/",
          "height": 153
        },
        "outputId": "b882e8b6-ae2b-452c-9791-e2cbc8dd1a12"
      },
      "source": [
        "!unzip Part-A-Support.zip"
      ],
      "execution_count": 1,
      "outputs": [
        {
          "output_type": "stream",
          "text": [
            "Archive:  Part-A-Support.zip\n",
            "  inflating: fitnessEval.py          \n",
            "  inflating: generator.py            \n",
            "  inflating: puzzleDraw.py           \n",
            "  inflating: puzzleGenerator.py      \n",
            "  inflating: rotate.py               \n",
            "  inflating: shuffle2DPieces.py      \n",
            "  inflating: split2Dpiece.py         \n"
          ],
          "name": "stdout"
        }
      ]
    },
    {
      "cell_type": "markdown",
      "metadata": {
        "id": "rV7KZ6uV5W4o",
        "colab_type": "text"
      },
      "source": [
        "### Generating Puzzle and Initial Population\n",
        "\n",
        "After running all the codes above once, Use the function **generator(population_size, sol)** to generate a new puzzle and its associated initial population.\n",
        "\n",
        "You can change the population size as needed, and if you want to know about the solution, set sol=True. \n",
        "\n",
        "Two JSON files would be generated, **population.json** and **solution.json** for the population and solution respectively.\n",
        "\n",
        "Download these JSON files and use it as need."
      ]
    },
    {
      "cell_type": "code",
      "metadata": {
        "id": "7CcbSgkM4epW",
        "colab_type": "code",
        "colab": {}
      },
      "source": [
        "import generator as gen\n",
        "import json\n",
        "#reading population\n",
        "gen.generate(population_size=100, sol=True)"
      ],
      "execution_count": 0,
      "outputs": []
    },
    {
      "cell_type": "markdown",
      "metadata": {
        "id": "LSGdgAX26ahv",
        "colab_type": "text"
      },
      "source": [
        "# Visualizing the results.\n",
        "\n",
        "Write your solution (which you want to visualize) as a json file (check the solution.json) and upload the file and use the code below to visualize the plots.\n",
        "\n",
        "Incase if you are updating the population.json file, then upload the file and use the fittest individual json for visualization. Refer the codes below.\n",
        "\n",
        "**Note:** Make sure that if it is a new file, upload the file and change the filename in the code"
      ]
    },
    {
      "cell_type": "code",
      "metadata": {
        "id": "PiedtpGe6ZhW",
        "colab_type": "code",
        "colab": {
          "base_uri": "https://localhost:8080/",
          "height": 92
        },
        "outputId": "5c87341a-9bbe-4fec-c06a-62d827a79e2b"
      },
      "source": [
        "import puzzleDraw as pd\n",
        "with open(\"solution.json\",'r') as f:\n",
        "  solution = json.loads(f.read());\n",
        "pd.draw2(json.dumps(solution))"
      ],
      "execution_count": 5,
      "outputs": [
        {
          "output_type": "display_data",
          "data": {
            "image/png": "[encoded data removed]",
            "text/plain": [
              "<Figure size 432x288 with 1 Axes>"
            ]
          },
          "metadata": {
            "tags": []
          }
        }
      ]
    },
    {
      "cell_type": "code",
      "metadata": {
        "id": "7IN7axX86wDY",
        "colab_type": "code",
        "colab": {
          "base_uri": "https://localhost:8080/",
          "height": 167
        },
        "outputId": "c34304d2-8aa4-4a56-8657-d136259a2b3c"
      },
      "source": [
        "with open(\"population.json\",'r') as f:\n",
        "  population = json.loads(f.read());\n",
        "\n",
        "pd.draw2(json.dumps(population[\"95\"]))"
      ],
      "execution_count": 6,
      "outputs": [
        {
          "output_type": "display_data",
          "data": {
            "image/png": "[encoded data removed]",
            "text/plain": [
              "<Figure size 432x288 with 1 Axes>"
            ]
          },
          "metadata": {
            "tags": []
          }
        }
      ]
    },
    {
      "cell_type": "markdown",
      "metadata": {
        "id": "99HJsn1V6smU",
        "colab_type": "text"
      },
      "source": [
        "# Fitness Evaluation\n",
        "\n",
        "Fitness of an individual is a reflection of how well the tiles fit in the frame, which could be measured by finding the percentage of freespace in the frame.\n",
        "\n",
        "A sample of the fitness evaluation(written in python) is shared, please refer to the function in fitnessEval.py."
      ]
    },
    {
      "cell_type": "code",
      "metadata": {
        "id": "uK1D6TwI6WFs",
        "colab_type": "code",
        "colab": {
          "base_uri": "https://localhost:8080/",
          "height": 34
        },
        "outputId": "7c8340a9-245b-4c3d-a687-ba92dc6f91d0"
      },
      "source": [
        "import fitnessEval as fit\n",
        "fit.fitnessEval(json.dumps(solution))"
      ],
      "execution_count": 7,
      "outputs": [
        {
          "output_type": "execute_result",
          "data": {
            "text/plain": [
              "'{\"fitness\": 0.0}'"
            ]
          },
          "metadata": {
            "tags": []
          },
          "execution_count": 7
        }
      ]
    },
    {
      "cell_type": "code",
      "metadata": {
        "id": "9txSlKyT7FCq",
        "colab_type": "code",
        "colab": {
          "base_uri": "https://localhost:8080/",
          "height": 34
        },
        "outputId": "7e4add01-1ca1-4ada-eeba-d6d18365eb39"
      },
      "source": [
        "fit.fitnessEval(json.dumps(population[\"99\"]))"
      ],
      "execution_count": 8,
      "outputs": [
        {
          "output_type": "execute_result",
          "data": {
            "text/plain": [
              "'{\"fitness\": 72.70440251572326}'"
            ]
          },
          "metadata": {
            "tags": []
          },
          "execution_count": 8
        }
      ]
    },
    {
      "cell_type": "markdown",
      "metadata": {
        "id": "wJTw3Ljj7Jb3",
        "colab_type": "text"
      },
      "source": [
        "### Additional Support\n",
        "\n",
        "Sample JSON read/write codes in JAVA/C++ are provided as port of the Assignment.\n",
        "\n",
        "For additional Support please reach out to Alen/Koa."
      ]
    }
  ]
}