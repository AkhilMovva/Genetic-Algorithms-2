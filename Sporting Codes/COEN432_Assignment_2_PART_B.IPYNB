{
  "nbformat": 4,
  "nbformat_minor": 0,
  "metadata": {
    "colab": {
      "name": "COEN432_Assignment_2_Automata_machine.ipynb",
      "provenance": [],
      "collapsed_sections": [],
      "toc_visible": true
    },
    "kernelspec": {
      "name": "python3",
      "display_name": "Python 3"
    }
  },
  "cells": [
    {
      "cell_type": "markdown",
      "metadata": {
        "colab_type": "text",
        "id": "I_NVpyMfk5oR"
      },
      "source": [
        "# Assignment-2 Part 2 - Automata Machine\n",
        "###Description\n",
        "Given a randomly generated set of rules, an 8-bit initial state, and an 8-bit goal state, write a GA that finds the set of rules that will transform the initial state to the goal state after some amount of passes.\n",
        "\n",
        "###Instructions\n",
        "An individual is a set of randomly generated rules based off of a 5-bit truth table. \n",
        "\n",
        "Example:\n",
        "\n",
        "Input | Rule\n",
        "--- | ---\n",
        "00000 | 1\n",
        "00001 | 0\n",
        "00010 | 3\n",
        "...   | ...\n",
        "11110 | 2\n",
        "11111 | 2\n",
        "\n",
        "The rules work as follows:\n",
        "\n",
        "\n",
        "> 0 - replace middle value with a 0\n",
        "\n",
        "> 1 - replace middle value with a 1\n",
        "\n",
        "> 2 - delete the middle value\n",
        "\n",
        "> 3 - replicate the middle value\n",
        "\n",
        "You will use a 5-bit sliding window to implement the rules on the initial state. It may dramatically shorten run time if you parallelize the sliding window.\n",
        "\n",
        "###Example: 5-bit Initial State and 3-bit Sliding Window###\n",
        "Input | Rule\n",
        "--- | ---\n",
        "000 | 0\n",
        "001 | 1\n",
        "010 | 2\n",
        "011 | 3\n",
        "100 | 3\n",
        "101 | 2\n",
        "110 | 1\n",
        "111 | 0\n",
        "\n",
        "Initial State: 01000\n",
        "\n",
        "Goal State: 11111\n",
        "\n",
        "Current State = copy(Initial State)\n",
        "\n",
        "Current State: 01000\n",
        "\n",
        "**First Pass**\n",
        "\n",
        "Next State = copy(Current State)\n",
        "\n",
        "Next State: 01000\n",
        "\n",
        "Step | Current State | Sliding Window | Rule | Change to Next State this Pass\n",
        "--- | --- | --- | --- | ---\n",
        "0 | 01000 |  |  |  01000 (note this is a copy of Current State)\n",
        "1 | ***010***00 | 010 | 2 |  0***_***000\n",
        "2 | 0***100***0 | 100 | 3 | 00***0***00\n",
        "3 | 01***000*** | 000 | 0 | 000***0***0\n",
        "4 | ***0***10***00*** | 000 | 0 | 0000***0***\n",
        "5 | ***01***00***0*** | 001 | 1 | ***1***0000\n",
        "\n",
        "**During each pass ONLY change Next State - DO NOT CHANGE THE INITIAL/CURRENT STATE**\n",
        "\n",
        "Update Current State once all passes are completed.\n",
        "\n",
        "Next State: 10000\n",
        "\n",
        "Current State = copy(Next State)\n",
        "\n",
        "Current State: 10000\n",
        "\n",
        "**End of First Pass**\n",
        "\n",
        "\n",
        "\n",
        "It may take multiple passes to get to the goal state. Some rules will you get close to the goal state, but never fully reach it.\n",
        "\n",
        "Population is a JSON file with the desired number(population_size) of individuals. The first and second elements refer to the intial state and goal state respectively.\n",
        "\n",
        "Running the intialize_population function, generates the JSON file - automata-population.json."
      ]
    },
    {
      "cell_type": "markdown",
      "metadata": {
        "id": "D-vpYgxFiyvW",
        "colab_type": "text"
      },
      "source": [
        "# Supporting Codes\n",
        "Below are the supporting codes necessary to generate the initial state, goal state, and initial population\n",
        "\n",
        "**Whenever you open the notebook just run the below codes once**.\n",
        "\n",
        "After running them once all the functions can be reused anywhere in the notebook."
      ]
    },
    {
      "cell_type": "code",
      "metadata": {
        "id": "URKf5dPvitYD",
        "colab_type": "code",
        "colab": {}
      },
      "source": [
        "## Importing all the packages\n",
        "import numpy as np\n",
        "import random\n",
        "import json"
      ],
      "execution_count": 0,
      "outputs": []
    },
    {
      "cell_type": "code",
      "metadata": {
        "id": "_b3v3OJSxize",
        "colab_type": "code",
        "colab": {}
      },
      "source": [
        "################################################################################\n",
        "#\n",
        "#   Initializes the population of candidates with a size of population_size. \n",
        "#   Also initializes your 8-bit initial_state and your 8-bit goal_state.\n",
        "#\n",
        "#   Parameters:\n",
        "#   population_size - an integer defining how many rules tables to generate\n",
        "#\n",
        "################################################################################\n",
        "def initialize_population(population_size=3):\n",
        "    new_population = []\n",
        "    random_truth_table = []\n",
        "\n",
        "    initial_state = format(np.random.randint(256), 'b')\n",
        "    goal_state = format(np.random.randint(256), 'b')\n",
        "\n",
        "    while len(initial_state) != 8:\n",
        "      initial_state = \"0\" + initial_state\n",
        "\n",
        "    while len(goal_state) != 8:\n",
        "      goal_state = \"0\" + goal_state\n",
        "\n",
        "    while np.array_equal(initial_state, goal_state):\n",
        "      goal_state = np.random.randint(2,size=(8,))\n",
        "\n",
        "    new_population.append({\"Initial State\": str(initial_state)})\n",
        "    new_population.append({\"Goal State\": str(goal_state)})\n",
        "\n",
        "    for individual in range(population_size):\n",
        "      random_truth_table= list()\n",
        "      for bit in range(32):\n",
        "        key = format(bit, 'b')\n",
        "        while len(key) != 5:\n",
        "          key = \"0\" + key\n",
        "        random_truth_table.append({key: np.random.randint(4)})\n",
        "      new_population.append(random_truth_table)\n",
        "    \n",
        "    with open(\"automata-population.json\", 'w') as o:\n",
        "      o.write(json.dumps(new_population))"
      ],
      "execution_count": 0,
      "outputs": []
    },
    {
      "cell_type": "markdown",
      "metadata": {
        "id": "lC2ykryqnmT2",
        "colab_type": "text"
      },
      "source": [
        "## Generating Initial Population\n",
        "\n",
        "After running all the codes above once, Use the function **initialize_population(population_size)** to generate a new initial state, goal state, and set of rules tables.\n",
        "\n",
        "One JSON file is generated: automata-population.json.\n",
        "\n",
        "Download this file and use it as need."
      ]
    },
    {
      "cell_type": "code",
      "metadata": {
        "id": "urSpe8Yk1b6a",
        "colab_type": "code",
        "colab": {}
      },
      "source": [
        "initialize_population(population_size = 5)\n",
        "\n",
        "with open(\"automata-population.json\",'r') as f:\n",
        "  population = json.loads(f.read());\n",
        "\n",
        "initial_state = population[0]['Initial State']\n",
        "goal_state = population[1]['Goal State']\n",
        "\n",
        "current_state = initial_state"
      ],
      "execution_count": 0,
      "outputs": []
    },
    {
      "cell_type": "markdown",
      "metadata": {
        "id": "QkPRMYjgfidL",
        "colab_type": "text"
      },
      "source": [
        "# Visualizing a Population\n",
        "\n",
        "To visualize your population, use the function print_population().\n",
        "\n",
        "If you have modified the population while running your GA, make sure it matches the same format as the initial_population. Refer to initialize_population for the format.\n"
      ]
    },
    {
      "cell_type": "code",
      "metadata": {
        "id": "AJiL0qZmjd0m",
        "colab_type": "code",
        "colab": {}
      },
      "source": [
        "################################################################################\n",
        "#\n",
        "#   Prints the passed in population population\n",
        "#\n",
        "#   Parameters:\n",
        "#   population_json - json object containing the population to print\n",
        "#\n",
        "################################################################################\n",
        "def print_population(population_json):\n",
        "  json_obj = json.loads(population_json)\n",
        "\n",
        "  for individual in range(len(population)):\n",
        "    if individual < 2:\n",
        "      print(str(population[individual]))\n",
        "    else:\n",
        "      print(population[individual])\n",
        "      #print(\"Invididual \" + str(individual - 1) + \": \" + str(population[individual]))"
      ],
      "execution_count": 0,
      "outputs": []
    },
    {
      "cell_type": "code",
      "metadata": {
        "id": "abHeqteO5G9P",
        "colab_type": "code",
        "outputId": "c60ab94a-bc0a-4f44-86b1-2a485983365b",
        "colab": {
          "base_uri": "https://localhost:8080/",
          "height": 156
        }
      },
      "source": [
        "print_population(json.dumps(population))"
      ],
      "execution_count": 0,
      "outputs": [
        {
          "output_type": "stream",
          "text": [
            "{'Initial State': '11000101'}\n",
            "{'Goal State': '11011101'}\n",
            "[{'00000': 0}, {'00001': 3}, {'00010': 0}, {'00011': 2}, {'00100': 1}, {'00101': 2}, {'00110': 3}, {'00111': 2}, {'01000': 3}, {'01001': 0}, {'01010': 3}, {'01011': 2}, {'01100': 0}, {'01101': 0}, {'01110': 0}, {'01111': 0}, {'10000': 0}, {'10001': 1}, {'10010': 0}, {'10011': 1}, {'10100': 2}, {'10101': 2}, {'10110': 3}, {'10111': 1}, {'11000': 1}, {'11001': 2}, {'11010': 1}, {'11011': 2}, {'11100': 0}, {'11101': 0}, {'11110': 1}, {'11111': 2}]\n",
            "[{'00000': 1}, {'00001': 0}, {'00010': 3}, {'00011': 0}, {'00100': 1}, {'00101': 1}, {'00110': 1}, {'00111': 2}, {'01000': 0}, {'01001': 0}, {'01010': 2}, {'01011': 0}, {'01100': 0}, {'01101': 0}, {'01110': 3}, {'01111': 0}, {'10000': 2}, {'10001': 1}, {'10010': 3}, {'10011': 2}, {'10100': 0}, {'10101': 1}, {'10110': 2}, {'10111': 3}, {'11000': 0}, {'11001': 3}, {'11010': 3}, {'11011': 1}, {'11100': 0}, {'11101': 2}, {'11110': 0}, {'11111': 3}]\n",
            "[{'00000': 0}, {'00001': 0}, {'00010': 1}, {'00011': 3}, {'00100': 2}, {'00101': 0}, {'00110': 1}, {'00111': 0}, {'01000': 0}, {'01001': 3}, {'01010': 3}, {'01011': 3}, {'01100': 0}, {'01101': 2}, {'01110': 3}, {'01111': 3}, {'10000': 3}, {'10001': 3}, {'10010': 0}, {'10011': 0}, {'10100': 1}, {'10101': 1}, {'10110': 3}, {'10111': 2}, {'11000': 2}, {'11001': 1}, {'11010': 2}, {'11011': 2}, {'11100': 3}, {'11101': 1}, {'11110': 2}, {'11111': 1}]\n",
            "[{'00000': 3}, {'00001': 1}, {'00010': 2}, {'00011': 2}, {'00100': 3}, {'00101': 3}, {'00110': 2}, {'00111': 0}, {'01000': 2}, {'01001': 0}, {'01010': 3}, {'01011': 3}, {'01100': 1}, {'01101': 1}, {'01110': 1}, {'01111': 0}, {'10000': 0}, {'10001': 0}, {'10010': 2}, {'10011': 0}, {'10100': 2}, {'10101': 1}, {'10110': 0}, {'10111': 0}, {'11000': 3}, {'11001': 3}, {'11010': 2}, {'11011': 1}, {'11100': 3}, {'11101': 3}, {'11110': 2}, {'11111': 1}]\n",
            "[{'00000': 2}, {'00001': 2}, {'00010': 1}, {'00011': 2}, {'00100': 1}, {'00101': 1}, {'00110': 1}, {'00111': 3}, {'01000': 2}, {'01001': 0}, {'01010': 3}, {'01011': 3}, {'01100': 1}, {'01101': 3}, {'01110': 3}, {'01111': 0}, {'10000': 3}, {'10001': 2}, {'10010': 1}, {'10011': 3}, {'10100': 2}, {'10101': 1}, {'10110': 3}, {'10111': 3}, {'11000': 0}, {'11001': 1}, {'11010': 1}, {'11011': 1}, {'11100': 1}, {'11101': 0}, {'11110': 3}, {'11111': 2}]\n"
          ],
          "name": "stdout"
        }
      ]
    },
    {
      "cell_type": "markdown",
      "metadata": {
        "id": "eDQJwCdB2F-G",
        "colab_type": "text"
      },
      "source": [
        "# Fitness Evaluation\n",
        "\n",
        "Fitness of an individual is calculated using Minimum Edit Distance (MED). The more deletes, inserts, and substitutions required to convert the final state to the goal state, the worse the fitness. A lower fitness value is better.\n",
        "\n",
        "A sample of the fitness evaluation(written in python) is shared, please refer to the function calculate_fitness().\n",
        "\n",
        "If you want to understand how this fitness function works, please refer to:\n",
        "[Minimum Edit Distance (MED)](https://archive.org/details/31DefiningMinimumEditDistanceStanfordNLPProfessorDanJurafskyChrisManning/3+-+2+-+Computing+Minimum+Edit+Distance+-+Stanford+NLP+-+Professor+Dan+Jurafsky+%26+Chris+Manning.mp4)"
      ]
    },
    {
      "cell_type": "code",
      "metadata": {
        "id": "4_rc7BpojW-d",
        "colab_type": "code",
        "colab": {}
      },
      "source": [
        "################################################################################\n",
        "#\n",
        "#   Calculates the Minimum Edit Distance (MED) between two strings using dynamic\n",
        "#   programming. The lower the value, the better.\n",
        "#\n",
        "#   Parameters:\n",
        "#   final_state - the result of applying your GA strategy on the initial_state\n",
        "#   goal_state - the state that you are aiming to change the initial_state into\n",
        "#\n",
        "#   Returns:\n",
        "#   an integer corresponding to the fitness of your final_state vs goal_state\n",
        "#\n",
        "################################################################################\n",
        "def calculate_fitness(final_state, goal_state):\n",
        "  fitness_table = np.zeros((len(final_state) + 1 , len(goal_state) + 1), dtype=int)\n",
        "\n",
        "  for row in range(len(final_state)+1):\n",
        "    fitness_table[row][0] = row\n",
        "  for col in range(len(goal_state)+1):\n",
        "    fitness_table[0][col] = col\n",
        "\n",
        "  for row in range(len(final_state)+1):\n",
        "    for col in range(len(goal_state)+1):\n",
        "      if row != 0 and col != 0:  \n",
        "        if final_state[row-1] == goal_state[col-1]:\n",
        "          fitness_table[row][col] = fitness_table[row-1][col-1]\n",
        "        else:\n",
        "            fitness_table[row][col] = min(fitness_table[row-1][col] + 1,\n",
        "                                          fitness_table[row][col-1] + 1,\n",
        "                                          fitness_table[row-1][col-1] + 2\n",
        "            )\n",
        "  return fitness_table[len(final_state)][len(goal_state)]"
      ],
      "execution_count": 0,
      "outputs": []
    },
    {
      "cell_type": "code",
      "metadata": {
        "id": "HOS4zzB72PVF",
        "colab_type": "code",
        "outputId": "761d11e6-4132-4f14-8d45-6517a5a681a5",
        "colab": {
          "base_uri": "https://localhost:8080/",
          "height": 34
        }
      },
      "source": [
        "calculate_fitness(current_state, goal_state)"
      ],
      "execution_count": 0,
      "outputs": [
        {
          "output_type": "execute_result",
          "data": {
            "text/plain": [
              "4"
            ]
          },
          "metadata": {
            "tags": []
          },
          "execution_count": 191
        }
      ]
    }
  ]
}